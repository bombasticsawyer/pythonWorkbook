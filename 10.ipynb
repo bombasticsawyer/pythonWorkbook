{
 "cells": [
  {
   "cell_type": "code",
   "execution_count": 10,
   "metadata": {},
   "outputs": [
    {
     "name": "stdout",
     "output_type": "stream",
     "text": [
      "Enter two integers, seperated by a space\n",
      "Sum: 690\n",
      "Difference: -222\n",
      "Product: 106704\n",
      "Quotient: 0.5131578947368421\n",
      "Remainder: 234\n",
      "Result of log10a: 2.369215857410143\n",
      "To the power of: 2303726823333279556919274820356954993360570327049340717487537119172007099291745382182755276581506933429510694479210861623412229075837399229684540405771506454888780418500343288891924987784609732453333431066315171885416022714681170286132874063570262840880282878640472218871809313333810575222387503882484377076453487461485618451371168393994244909880736622978951412531008752628366167272049885708543337319407285936122748027931045226093794385112911297336696305927765709910715675146173771658033759599124353093260619746456401230160301408279762836544848970605797603132360371047745934876164395663138860706970391859670526910428550845991538844884451564958244533261796881600630182961188715849173881186888579296065639284909489013604875173401015292360635376011210161744322033676783888552774474472198456490396480896712093950344801633706670228766488112417809875630604120883042999938683079460541241611996270819101458425916118289243185055141314399248249268685875973809576954915694829164727363033114022955935259507727143307147743444558205914169969228793231693508323661142975280200505357003950932361216\n"
     ]
    }
   ],
   "source": [
    "import math\n",
    "\n",
    "\n",
    "print('Enter two integers, seperated by a space')\n",
    "a, b = input('Enter: ').split()\n",
    "a = int(a)\n",
    "b = int(b)\n",
    "sum = str(a+b)\n",
    "print ('Sum: ' + sum)\n",
    "diff = str(a-b)\n",
    "print('Difference: ' + diff)\n",
    "prod = str(a*b)\n",
    "print('Product: ' + prod)\n",
    "quo = str(a/b)\n",
    "print('Quotient: ' + quo)\n",
    "remain = str(a%b)\n",
    "print('Remainder: ' + remain)\n",
    "log = str(math.log10(a))\n",
    "print('Result of log10a: ' + log)\n",
    "pow = str(a**b)\n",
    "print('To the power of: ' + pow)\n",
    "\n",
    "\n"
   ]
  }
 ],
 "metadata": {
  "interpreter": {
   "hash": "aee8b7b246df8f9039afb4144a1f6fd8d2ca17a180786b69acc140d282b71a49"
  },
  "kernelspec": {
   "display_name": "Python 3.10.4 64-bit",
   "language": "python",
   "name": "python3"
  },
  "language_info": {
   "codemirror_mode": {
    "name": "ipython",
    "version": 3
   },
   "file_extension": ".py",
   "mimetype": "text/x-python",
   "name": "python",
   "nbconvert_exporter": "python",
   "pygments_lexer": "ipython3",
   "version": "3.10.4"
  },
  "orig_nbformat": 4
 },
 "nbformat": 4,
 "nbformat_minor": 2
}
