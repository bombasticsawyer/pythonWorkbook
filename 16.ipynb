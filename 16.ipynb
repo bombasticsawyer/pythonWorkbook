{
 "cells": [
  {
   "cell_type": "code",
   "execution_count": 5,
   "metadata": {},
   "outputs": [
    {
     "name": "stdout",
     "output_type": "stream",
     "text": [
      "You entered: 5\n",
      "Area: 78.53981633974483\n",
      "Volume: 523.5987755982989\n"
     ]
    }
   ],
   "source": [
    "#Write a program that begins by reading a radius, r, from the user. \n",
    "# The program will continue by computing and displaying the area of a circle \n",
    "# with radius r and the volume of a sphere with radius r . \n",
    "# Use the pi constant in the math module in your calculations.\n",
    "import math\n",
    "\n",
    "\n",
    "r = int(input('Enter the radius'))\n",
    "area = (math.pi * r ** 2)\n",
    "v = (4/3 * math.pi * r**3)\n",
    "print('You entered: ' + str(r))\n",
    "print('Area: ' + str(area))\n",
    "print('Volume: ' + str(v))\n"
   ]
  }
 ],
 "metadata": {
  "interpreter": {
   "hash": "aee8b7b246df8f9039afb4144a1f6fd8d2ca17a180786b69acc140d282b71a49"
  },
  "kernelspec": {
   "display_name": "Python 3.10.4 64-bit",
   "language": "python",
   "name": "python3"
  },
  "language_info": {
   "codemirror_mode": {
    "name": "ipython",
    "version": 3
   },
   "file_extension": ".py",
   "mimetype": "text/x-python",
   "name": "python",
   "nbconvert_exporter": "python",
   "pygments_lexer": "ipython3",
   "version": "3.10.4"
  },
  "orig_nbformat": 4
 },
 "nbformat": 4,
 "nbformat_minor": 2
}
