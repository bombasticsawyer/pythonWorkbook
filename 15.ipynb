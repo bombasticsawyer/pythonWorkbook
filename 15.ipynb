{
 "cells": [
  {
   "cell_type": "code",
   "execution_count": 5,
   "metadata": {},
   "outputs": [
    {
     "name": "stdout",
     "output_type": "stream",
     "text": [
      "Inches: 63360\n",
      "Yards: 1760.0\n",
      "Miles: 1.0\n"
     ]
    }
   ],
   "source": [
    "#In this exercise, you will create a program that begins by \n",
    "# reading a measurement in feet from the user. \n",
    "# Then your program should display the equivalent distance in inches, \n",
    "# yards and miles. Use the Internet to look up the necessary conversion \n",
    "# factors if you don’t have them memorized.\n",
    "\n",
    "feet = int(input('Enter a measurement in feet'))\n",
    "inches = feet * 12\n",
    "yards = feet / 3\n",
    "miles = feet / 5280\n",
    "\n",
    "print('Inches: ' + str(inches))\n",
    "print('Yards: ' + str(yards))\n",
    "print('Miles: ' + str(miles))\n"
   ]
  }
 ],
 "metadata": {
  "interpreter": {
   "hash": "aee8b7b246df8f9039afb4144a1f6fd8d2ca17a180786b69acc140d282b71a49"
  },
  "kernelspec": {
   "display_name": "Python 3.10.4 64-bit",
   "language": "python",
   "name": "python3"
  },
  "language_info": {
   "codemirror_mode": {
    "name": "ipython",
    "version": 3
   },
   "file_extension": ".py",
   "mimetype": "text/x-python",
   "name": "python",
   "nbconvert_exporter": "python",
   "pygments_lexer": "ipython3",
   "version": "3.10.4"
  },
  "orig_nbformat": 4
 },
 "nbformat": 4,
 "nbformat_minor": 2
}
