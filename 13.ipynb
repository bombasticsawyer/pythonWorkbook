{
 "cells": [
  {
   "cell_type": "code",
   "execution_count": 3,
   "metadata": {},
   "outputs": [
    {
     "name": "stdout",
     "output_type": "stream",
     "text": [
      "4 toonies\n",
      "1 loonies\n",
      "0 quarters\n",
      "0 dimes\n",
      "0 nickles\n",
      "0 pennies\n"
     ]
    }
   ],
   "source": [
    "#Consider the software that runs on a self-checkout machine. One task that it must be able to perform is to determine how much change to provide when the shopper pays\n",
    "#for a purchase with cash.\n",
    "#Write a program that begins by reading a number of cents from the user as an\n",
    "#integer. Then your program should compute and display the denominations of the coins that should be used to give that amount of change to the shopper. The change should be given using as few coins as possible. Assume that the machine is loaded with pennies, nickels, dimes, quarters, loonies and toonies.\n",
    "\n",
    "\n",
    "\n",
    "\n",
    "c=int(input('Please enter the amount of cents:'))\n",
    "print(c//200, \"toonies\")\n",
    "c = c%200\n",
    "print(c//100, \"loonies\")\n",
    "c = c%100\n",
    "print(c//25, \"quarters\")\n",
    "c = c%25\n",
    "print(c//10, \"dimes\")\n",
    "c = c%10\n",
    "print(c//5, \"nickles\")\n",
    "c = c%5\n",
    "print(c//1, \"pennies\")"
   ]
  }
 ],
 "metadata": {
  "interpreter": {
   "hash": "aee8b7b246df8f9039afb4144a1f6fd8d2ca17a180786b69acc140d282b71a49"
  },
  "kernelspec": {
   "display_name": "Python 3.10.4 64-bit",
   "language": "python",
   "name": "python3"
  },
  "language_info": {
   "codemirror_mode": {
    "name": "ipython",
    "version": 3
   },
   "file_extension": ".py",
   "mimetype": "text/x-python",
   "name": "python",
   "nbconvert_exporter": "python",
   "pygments_lexer": "ipython3",
   "version": "3.10.4"
  },
  "orig_nbformat": 4
 },
 "nbformat": 4,
 "nbformat_minor": 2
}
