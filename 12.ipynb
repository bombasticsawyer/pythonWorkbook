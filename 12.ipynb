{
 "cells": [
  {
   "cell_type": "code",
   "execution_count": 14,
   "metadata": {},
   "outputs": [
    {
     "name": "stdout",
     "output_type": "stream",
     "text": [
      "12120.23\n"
     ]
    }
   ],
   "source": [
    "#The surface of the Earth is curved, and the distance between degrees of l\n",
    "# ongitude varies with latitude. As a result, finding the distance between \n",
    "# two points on the surface of the Earth is more complicated than simply using the Pythagorean theorem.\n",
    "# Let (t1, g1) and (t2, g2) be the latitude and longitude of two points on the Earth’s surface. The distance between these points, following the surface of the Earth, in \n",
    "# kilometers is:\n",
    "# distance = 6371.01 × arccos(sin(t1) × sin(t2) + cos(t1) × cos(t2) × cos(g1 − g2))\n",
    "# The value 6371.01 in the previous equation wasn’t selected at random. It is the average radius of the Earth in kilometers.\n",
    "# Create a program that allows the user to enter the latitude and longitude of two points on the Earth in degrees. Your program should display the distance between the points, following the surface of the earth, in kilometers.\n",
    "# Hint: Python’s trigonometric functions operate in radians. As a result, you will need to convert the user’s input from degrees to radians before computing the distance with the formula discussed previously. The math module contains a function named radians which converts from degrees to radians.\n",
    "\n",
    "\n",
    "\n",
    "import math\n",
    "\n",
    "t1 = input('Enter t1')\n",
    "g1 = input('Enter g1')\n",
    "\n",
    "t2 = input('Enter t2')\n",
    "g2 = input('Enter g2')\n",
    "t1 = math.radians(float(t1))\n",
    "g1 = math.radians(float(g1))\n",
    "t2 = math.radians(float(t2))\n",
    "g2 = math.radians(float(g2)) \n",
    "\n",
    "\n",
    "distance =  6371.01 * math.acos(math.sin(t1)*math.sin(t2)+math.cos(t1)*math.cos(t2)*math.cos(g1-g2))\n",
    "\n",
    "print(round(distance, 2))\n"
   ]
  }
 ],
 "metadata": {
  "interpreter": {
   "hash": "aee8b7b246df8f9039afb4144a1f6fd8d2ca17a180786b69acc140d282b71a49"
  },
  "kernelspec": {
   "display_name": "Python 3.10.4 64-bit",
   "language": "python",
   "name": "python3"
  },
  "language_info": {
   "codemirror_mode": {
    "name": "ipython",
    "version": 3
   },
   "file_extension": ".py",
   "mimetype": "text/x-python",
   "name": "python",
   "nbconvert_exporter": "python",
   "pygments_lexer": "ipython3",
   "version": "3.10.4"
  },
  "orig_nbformat": 4
 },
 "nbformat": 4,
 "nbformat_minor": 2
}
