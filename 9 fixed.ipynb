{
 "cells": [
  {
   "cell_type": "code",
   "execution_count": 2,
   "metadata": {},
   "outputs": [
    {
     "name": "stdout",
     "output_type": "stream",
     "text": [
      "The starting balence is: $1\n",
      "After the first year the balence is: $1.04\n",
      "After the second year the balence is: 1.08\n",
      "After the third year the balence is: 1.12\n"
     ]
    }
   ],
   "source": [
    "balence = int(input('How much money is in the savings account?'))\n",
    "count = 1\n",
    "print('The starting balence is: $' + str(balence))\n",
    "balence = balence + (balence * 0.04)\n",
    "print('After the first year the balence is: $' + str(balence))\n",
    "balence = round(balence + (balence * 0.04), 2)\n",
    "print('After the second year the balence is: $' + str(balence))\n",
    "balence = round(balence + (balence * 0.04), 2)\n",
    "print('After the third year the balence is: $' + str(balence))\n"
   ]
  }
 ],
 "metadata": {
  "interpreter": {
   "hash": "aee8b7b246df8f9039afb4144a1f6fd8d2ca17a180786b69acc140d282b71a49"
  },
  "kernelspec": {
   "display_name": "Python 3.10.4 64-bit",
   "language": "python",
   "name": "python3"
  },
  "language_info": {
   "codemirror_mode": {
    "name": "ipython",
    "version": 3
   },
   "file_extension": ".py",
   "mimetype": "text/x-python",
   "name": "python",
   "nbconvert_exporter": "python",
   "pygments_lexer": "ipython3",
   "version": "3.10.4"
  },
  "orig_nbformat": 4
 },
 "nbformat": 4,
 "nbformat_minor": 2
}
