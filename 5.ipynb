{
 "cells": [
  {
   "cell_type": "code",
   "execution_count": 1,
   "metadata": {},
   "outputs": [
    {
     "name": "stdout",
     "output_type": "stream",
     "text": [
      "The field is 2.295684113865932acres\n"
     ]
    }
   ],
   "source": [
    "# Excersize 4\n",
    "#Create a program that reads the length and width of a farmer’s field from the user in\n",
    "#feet. Display the area of the field in acres.\n",
    "\n",
    "length = float(input('Enter the field length in feet: '))\n",
    "width = float(input('Enter the field width in feet: '))\n",
    "sfPerAcre = 43560\n",
    "area = str(((length * width)/sfPerAcre))\n",
    "print('The field is ' + area + ' acres')\n"
   ]
  },
  {
   "cell_type": "code",
   "execution_count": null,
   "metadata": {},
   "outputs": [],
   "source": [
    "#Excersize 5\n",
    "#In many jurisdictions a small deposit is added to drink containers to encourage people to recycle them. In one particular jurisdiction, drink containers holding one liter or less have a $0.10 deposit, and drink containers holding more than one liter have a\n",
    "# $0.25 deposit. Write a program that reads the number of containers of each size from the user.\n",
    "# Your program should continue by computing and displaying the refund that will be received for returning those containers. Format the output so that it includes a dollar sign and two digits to the right of the decimal point.\n",
    "\n",
    "\n"
   ]
  }
 ],
 "metadata": {
  "interpreter": {
   "hash": "aee8b7b246df8f9039afb4144a1f6fd8d2ca17a180786b69acc140d282b71a49"
  },
  "kernelspec": {
   "display_name": "Python 3.10.4 64-bit",
   "language": "python",
   "name": "python3"
  },
  "language_info": {
   "codemirror_mode": {
    "name": "ipython",
    "version": 3
   },
   "file_extension": ".py",
   "mimetype": "text/x-python",
   "name": "python",
   "nbconvert_exporter": "python",
   "pygments_lexer": "ipython3",
   "version": "3.10.4"
  },
  "orig_nbformat": 4
 },
 "nbformat": 4,
 "nbformat_minor": 2
}
