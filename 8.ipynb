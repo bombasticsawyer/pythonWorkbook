{
 "cells": [
  {
   "cell_type": "code",
   "execution_count": 11,
   "metadata": {},
   "outputs": [
    {
     "name": "stdout",
     "output_type": "stream",
     "text": [
      "Gizmos weighed: 112grams ,\n",
      "and widgets weighed: 75grams.\n",
      "The total wieght for all parts is: 187grams.\n"
     ]
    }
   ],
   "source": [
    "widgets= int(input('How many widgets?'))\n",
    "gizmos = int(input('How many gizmos?'))\n",
    "widgetWeight = 75\n",
    "gizmoWeight = 112\n",
    "widgetTotal = widgets * widgetWeight\n",
    "gizmoTotal = gizmos * gizmoWeight\n",
    "total = gizmoTotal + widgetTotal\n",
    "print ('Gizmos weighed: ' + str(gizmoTotal) + ' grams ,') \n",
    "print('and widgets weighed: ' + str(widgetTotal) + ' grams.')\n",
    "print('The total wieght for all parts is: ' + str(total) + ' grams.')"
   ]
  }
 ],
 "metadata": {
  "interpreter": {
   "hash": "aee8b7b246df8f9039afb4144a1f6fd8d2ca17a180786b69acc140d282b71a49"
  },
  "kernelspec": {
   "display_name": "Python 3.10.4 64-bit",
   "language": "python",
   "name": "python3"
  },
  "language_info": {
   "codemirror_mode": {
    "name": "ipython",
    "version": 3
   },
   "file_extension": ".py",
   "mimetype": "text/x-python",
   "name": "python",
   "nbconvert_exporter": "python",
   "pygments_lexer": "ipython3",
   "version": "3.10.4"
  },
  "orig_nbformat": 4
 },
 "nbformat": 4,
 "nbformat_minor": 2
}
